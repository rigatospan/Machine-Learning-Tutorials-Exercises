{
 "cells": [
  {
   "cell_type": "markdown",
   "metadata": {},
   "source": [
    "# Perceptron and Capacity\n",
    "Given $N$ number of data in $K$ dimensions can we classify them all correctly using a single perceptron?    \n",
    "Given $K$ what is the max number of points $N$ that can be linear ceperated by a perceptron?  \n",
    "\n",
    "For $N$ points there in total $2^N$ possible binary classifications. However, depending on $K$ there are usually smaller number of possible linear seperations, which means that there are data configurations that are impossible to classify using a single line (i.e. Perceptron).  \n",
    "The number of possible linear sepearation $T(N, K)$ is given by the following formula:\n",
    "$$\n",
    "T(N, K) = \n",
    "\\begin{cases}\n",
    "2^N \\quad &, \\quad \\text{if} \\,\\, K \\geq N \\\\\n",
    "2\\sum_{k=0}^{K-1} \\binom{N-1}{K} \\quad &, \\quad \\text{if} \\,\\, K < N \n",
    "\\end{cases}\n",
    "$$  \n",
    "\n",
    "We can show that the ratio $T(N, K)/2^N$ is close to $1$ for $ N\\leq K$ and drops quickly to 0 for $N > 2K$. This suggest that the capacity of the perceptron is 2 bits per weight (i.e. per dimension). However there are still some cases where $N=2K$ that cannot be classified. An example is the XOR function $(N=4, K=2)$. "
   ]
  },
  {
   "cell_type": "markdown",
   "metadata": {},
   "source": [
    "The XOR function in 2-dim realizes the following table\n",
    "| $x_1$ | $x_2$| $y = x_1\\oplus x_2$|\n",
    "|:-------:|:-----:|:----:|\n",
    "|0|0|0|\n",
    "|0|1|1|\n",
    "|1|0|1|\n",
    "|1|1|0|\n",
    "\n",
    "For a single perceptron $\\sigma(w_1x_1+w_2x_2+b)$ to correcly classify those 4 points the following inequalities should hold\n",
    "$$\n",
    "\\begin{align}\n",
    "w_1\\cdot 0 +w_2\\cdot 0 + b \\leq 0 & \\quad \\rightarrow \\quad b \\leq 0 \\\\\n",
    "w_1\\cdot 0 +w_2\\cdot 1 + b \\leq 0 & \\quad \\rightarrow \\quad w_1+b > 0 \\\\\n",
    "w_1\\cdot 1 +w_2\\cdot 0 + b \\leq 0 & \\quad \\rightarrow \\quad w_2+b >0 \\\\ \n",
    "w_1\\cdot 1 +w_2\\cdot 1 + b \\leq 0 & \\quad \\rightarrow \\quad w_1+w_2+b \\leq 0 \n",
    "\\end{align}\n",
    "$$ \n",
    "which cannot hold. Hence a single perceptron cannot realize the XOR function."
   ]
  },
  {
   "cell_type": "code",
   "execution_count": 1,
   "metadata": {},
   "outputs": [],
   "source": [
    "import numpy as np\n",
    "import matplotlib.pyplot as plt\n",
    "from tensorflow import keras"
   ]
  },
  {
   "cell_type": "code",
   "execution_count": 45,
   "metadata": {},
   "outputs": [],
   "source": [
    "y = np.array([0,1,1,0])\n",
    "x = np.array([[0,0], [0,1], [1,0], [1,1]])"
   ]
  },
  {
   "cell_type": "code",
   "execution_count": 29,
   "metadata": {},
   "outputs": [
    {
     "data": {
      "image/png": "[encoded data removed]",
      "text/plain": [
       "<Figure size 640x480 with 1 Axes>"
      ]
     },
     "metadata": {},
     "output_type": "display_data"
    }
   ],
   "source": [
    "plt.scatter(x[:,0], x[:, 1], c = y)\n",
    "plt.xlabel('$x_1$')\n",
    "plt.ylabel('$x_2$')\n",
    "plt.title('XOR function: No linear classification exist')\n",
    "# plt.legend()\n",
    "plt.show()"
   ]
  },
  {
   "cell_type": "markdown",
   "metadata": {},
   "source": [
    "There cannot be a single line that seperates the yellow from the purple points!  \n",
    "However we can achive this using 2 perceptrons to separate each yellow point from the rest respectively, and another perceptron that gets the input of the previous 2."
   ]
  }
 ],
 "metadata": {
  "kernelspec": {
   "display_name": "venv",
   "language": "python",
   "name": "python3"
  },
  "language_info": {
   "codemirror_mode": {
    "name": "ipython",
    "version": 3
   },
   "file_extension": ".py",
   "mimetype": "text/x-python",
   "name": "python",
   "nbconvert_exporter": "python",
   "pygments_lexer": "ipython3",
   "version": "3.12.7"
  }
 },
 "nbformat": 4,
 "nbformat_minor": 2
}
